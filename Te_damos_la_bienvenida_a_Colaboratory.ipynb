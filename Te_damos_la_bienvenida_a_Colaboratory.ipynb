{
  "cells": [
    {
      "cell_type": "markdown",
      "metadata": {
        "id": "view-in-github",
        "colab_type": "text"
      },
      "source": [
        "<a href=\"https://colab.research.google.com/github/M-Velazco/python/blob/main/Te_damos_la_bienvenida_a_Colaboratory.ipynb\" target=\"_parent\"><img src=\"https://colab.research.google.com/assets/colab-badge.svg\" alt=\"Open In Colab\"/></a>"
      ]
    },
    {
      "cell_type": "markdown",
      "source": [
        "EJERCICIO 5\n",
        "Escribe una función que pueda decirte si un año (número entero) es bisiesto o no."
      ],
      "metadata": {
        "id": "iYWRoQHizu-m"
      }
    },
    {
      "cell_type": "code",
      "source": [
        "año = 1975 #el año que queremos comprobar\n",
        "\n",
        "if año % 4 != 0: #no divisible entre 4\n",
        "\tprint(\"No es bisiesto\")\n",
        "elif año % 4 == 0 and año % 100 != 0: #divisible entre 4 y no entre 100 o 400\n",
        "\tprint(\"Es bisiesto\")\n",
        "elif año % 4 == 0 and año % 100 == 0 and año % 400 != 0: #divisible entre 4 y 10 y no entre 400\n",
        "\tprint(\"No es bisiesto\")\n",
        "elif año % 4 == 0 and año % 100 == 0 and año % 400 == 0: #divisible entre 4, 100 y 400\n",
        "\tprint(\"Es bisiesto\")"
      ],
      "metadata": {
        "id": "6bvwjIHc3qV0",
        "outputId": "71f94855-5cd9-4d76-8964-2481f62005bc",
        "colab": {
          "base_uri": "https://localhost:8080/"
        }
      },
      "execution_count": 16,
      "outputs": [
        {
          "output_type": "stream",
          "name": "stdout",
          "text": [
            "No es bisiesto\n"
          ]
        }
      ]
    }
  ],
  "metadata": {
    "colab": {
      "name": "Te damos la bienvenida a Colaboratory",
      "toc_visible": true,
      "provenance": [],
      "include_colab_link": true
    },
    "kernelspec": {
      "display_name": "Python 3",
      "name": "python3"
    }
  },
  "nbformat": 4,
  "nbformat_minor": 0
}