{
  "cells": [
    {
      "cell_type": "markdown",
      "metadata": {
        "id": "Mm0c4aD7yIPu"
      },
      "source": [
        "## Ejercicio 3\n",
        "\n",
        "Escribe un programa en la consola de python que pida al usuario su peso (en kg) y estatura (en metros), calcule el índice de masa corporal y lo almacene en una variable, e imprima por pantalla la frase Tu índice de masa corporal es donde es el índice de masa corporal calculado redondeado con dos decimales."
      ]
    },
    {
      "cell_type": "markdown",
      "metadata": {
        "id": "X3O8XK5syIP7"
      },
      "source": [
        "## Solución"
      ]
    },
    {
      "cell_type": "code",
      "execution_count": null,
      "metadata": {
        "id": "hLUtUuT1yIP8",
        "outputId": "46069a98-0b25-40b9-fe98-2bdd1646cf64"
      },
      "outputs": [
        {
          "name": "stdout",
          "output_type": "stream",
          "text": "Tu índice de masa corporal es 24.22\n"
        }
      ],
      "source": [
        "peso = input(\"¿Cuál es tu peso en kg? \")\n",
        "estatura = input(\"¿Cuál es tu estatura en metros?\")\n",
        "imc = round(float(peso)/float(estatura)**2,2)\n",
        "print(\"Tu índice de masa corporal es \" + str(imc))"
      ]
    }
  ],
  "metadata": {
    "kernelspec": {
      "display_name": "Python 3",
      "language": "python",
      "name": "python3"
    },
    "language_info": {
      "codemirror_mode": {
        "name": "ipython",
        "version": 3
      },
      "file_extension": ".py",
      "mimetype": "text/x-python",
      "name": "python",
      "nbconvert_exporter": "python",
      "pygments_lexer": "ipython3",
      "version": "3.7.4-final"
    },
    "colab": {
      "provenance": []
    }
  },
  "nbformat": 4,
  "nbformat_minor": 0
}